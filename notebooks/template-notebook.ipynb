{
    "cells": [
        {
            "cell_type": "markdown",
            "source": [
                "**===================================  \n",
                "Notebook title  \n",
                "===================================**  \n",
                "\n",
                "**Motivation:**  \n",
                "\n",
                "\n",
                "**Goal:**  \n",
                "\n",
                "\n",
                "**Data:** If any, indicate the data files used, how to access them."
            ],
            "metadata": {}
        },
        {
            "cell_type": "markdown",
            "source": [
                "## Imports \n",
                "Section with library imports."
            ],
            "metadata": {}
        },
        {
            "cell_type": "code",
            "execution_count": null,
            "source": [],
            "outputs": [],
            "metadata": {}
        },
        {
            "cell_type": "markdown",
            "source": [
                "### Default functions\n",
                "Section with some general functions used over the notebook"
            ],
            "metadata": {}
        },
        {
            "cell_type": "code",
            "execution_count": null,
            "source": [],
            "outputs": [],
            "metadata": {}
        },
        {
            "cell_type": "markdown",
            "source": [
                "# 1st section name\n",
                "## 1st subsection name"
            ],
            "metadata": {}
        },
        {
            "cell_type": "code",
            "execution_count": null,
            "source": [],
            "outputs": [],
            "metadata": {}
        },
        {
            "cell_type": "code",
            "execution_count": null,
            "source": [],
            "outputs": [],
            "metadata": {}
        },
        {
            "cell_type": "markdown",
            "source": [
                "# 2nd section name\n",
                "## 1st subsection name"
            ],
            "metadata": {}
        },
        {
            "cell_type": "code",
            "execution_count": null,
            "source": [],
            "outputs": [],
            "metadata": {}
        },
        {
            "cell_type": "code",
            "execution_count": null,
            "source": [],
            "outputs": [],
            "metadata": {}
        },
        {
            "cell_type": "markdown",
            "source": [
                "# Conclusions\n",
                "Whats are the main discoveries?\n"
            ],
            "metadata": {}
        }
    ],
    "metadata": {
        "orig_nbformat": 4,
        "language_info": {
            "name": "python"
        }
    },
    "nbformat": 4,
    "nbformat_minor": 2
}