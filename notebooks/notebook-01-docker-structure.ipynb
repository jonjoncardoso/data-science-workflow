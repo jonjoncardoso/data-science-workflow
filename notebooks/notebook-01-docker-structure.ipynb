{
 "cells": [
  {
   "cell_type": "markdown",
   "id": "e55e2229-9eb0-47b7-a841-afedce5afbc2",
   "metadata": {},
   "source": [
    "**OBJECTIVE:** To describe the template's directory structure, how Docker maps the directories and how to import functions from local custom packages\n",
    "\n",
    "**AUTHOR:** [@jonjoncardoso](https://github.com/jonjoncardoso)\n",
    "\n",
    "**NOTEBOOK VERSION:** v1\n",
    "\n",
    "**DATE:** 2021-09-08\n",
    "\n",
    "**ASSUMPTIONS:** In this notebook, I am assuming you have heard of [Docker](https://www.wikiwand.com/en/Docker_(software)) already. The first section of the notebook revises the most relevant concepts so if you are relatively acquainted with the idea of virtual machines and virtualisation you will do fine. However, if you have no idea what I am talking about, you never heard of Docker containers or if you don't truly grasp its concepts AND if you want to learn how it works, I highly recommend you reserve a couple of hours of your day to watch this [Docker Tutorial for Beginners - Docker Tutorial for Beginners - A Full DevOps Course on How to Run Applications in Containers](https://www.youtube.com/watch?v=fqMOX6JJhGo)."
   ]
  },
  {
   "cell_type": "markdown",
   "id": "3291640e-2622-4eaa-8e93-2c77d015ff30",
   "metadata": {},
   "source": [
    "# Docker and docker-compose: main concepts\n",
    "\n",
    "In summary, Docker is a software that allows you to run code in a virtual environment called a _container_. Even though this container runs in your computer, it has its own separate environment and _typically_ whatever you install or run within the container will not affect what is installed and running elsewhere in your machine (In practice, it is a lot more complicated than that but let's simplify for now).\n",
    "\n",
    "It is a very convenient tool for data science teams because **it allows people to run their code independently but within the same software environment**, with the same library versions and software dependencies installed regardless of which operating system they have installed in their machines (Mac, Linux, Windows). It is useful for replicating analysis written by your peers and for making reusable code accesible to everyone in the project, avoiding the error-prone process of copy pasting code. \n",
    "\n",
    "Docker containers are defined from a special type of text file called [Dockerfile](https://docs.docker.com/engine/reference/builder/). In this file, you specify the operating system you would like to emulate, its environment variables, install software dependencies (e.g. pip install...), define the working directory among other things. A _Docker image_ will be created once you have written and built this file, which will be re-used internally and efficiently by Docker when you need to run your own container.\n",
    "\n",
    "A container lives in its own separate world, sort of isolated from the rest of its host machine (your computer), but you can map certain directories and files to volumes within the container so you can create, modify and delete them when running Docker. Doing this with just Docker can get a little too complicated sometimes, so to simplify this process, we use a utility tool called [docker-compose](https://docs.docker.com/compose/). Docker compose allows us to define port and volume mappings as well as environment variables and to customize many other things by using a single yml file.\n",
    "\n",
    "Here is what the [docker-compose.yml for this template](/../../feature/issue1/jon-initial-docker-structure/docker-compose.yml#L10) looks like:\n",
    "\n",
    "```yml\n",
    "version: \"3.5\"\n",
    "\n",
    "services:\n",
    "\n",
    "  notebooks:\n",
    "    build: notebooks\n",
    "    environment:\n",
    "      - JUPYTER_ENABLE_LAB=yes\n",
    "    volumes:\n",
    "      - ./notebooks:/mnt/code\n",
    "      - ./src/python/pkg_name:/mnt/code/pkg_name\n",
    "      - ./data:/mnt/data/\n",
    "    ports:\n",
    "      - 8888:8888\n",
    "```\n",
    "\n",
    "\n",
    "The code above maps the directory notebooks to the path `/mnt/code` inside the container -- this is the standard mapping point for our work directory. It also adds the custom python package to the working directory so you can invoke it with `import pkg_name` from notebooks.\n",
    "\n",
    "\n",
    "\n",
    "**LINKS**\n",
    "- [Best practices for writing Dockerfiles](https://docs.docker.com/develop/develop-images/dockerfile_best-practices/)\n",
    "- [What is a Docker container? What is a Docker image?](https://www.docker.com/resources/what-container)\n",
    "- [Docker Volumes](https://docs.docker.com/storage/volumes/)\n",
    "- [Overview of docker-compose](https://docs.docker.com/compose/)\n",
    "\n",
    "# Available Python Packages\n",
    "\n",
    "## Which python libraries are installed?\n",
    "\n",
    "Because our template makes use of the [Jupyter Docker Stacks](https://jupyter-docker-stacks.readthedocs.io/en/latest/), the most common libraries will already have been installed in the container.\n",
    "\n",
    "You can see which python libraries are installed and at which version with the pip list command:"
   ]
  },
  {
   "cell_type": "code",
   "execution_count": 1,
   "id": "06810501-4322-42eb-b730-2fe9ec6f223d",
   "metadata": {},
   "outputs": [
    {
     "name": "stdout",
     "output_type": "stream",
     "text": [
      "Package                       Version\n",
      "----------------------------- -------------------\n",
      "alembic                       1.6.5\n",
      "altair                        4.1.0\n",
      "anyio                         3.3.0\n",
      "appdirs                       1.4.4\n",
      "argon2-cffi                   20.1.0\n",
      "async-generator               1.10\n",
      "attrs                         21.2.0\n",
      "Babel                         2.9.1\n",
      "backcall                      0.2.0\n",
      "backports.functools-lru-cache 1.6.4\n",
      "beautifulsoup4                4.9.3\n",
      "bleach                        4.0.0\n",
      "blinker                       1.4\n",
      "bokeh                         2.3.3\n",
      "Bottleneck                    1.3.2\n",
      "brotlipy                      0.7.0\n",
      "cached-property               1.5.2\n",
      "certifi                       2021.5.30\n",
      "certipy                       0.1.3\n",
      "cffi                          1.14.6\n",
      "chardet                       4.0.0\n",
      "charset-normalizer            2.0.0\n",
      "click                         8.0.1\n",
      "cloudpickle                   1.6.0\n",
      "colorama                      0.4.4\n",
      "conda                         4.10.3\n",
      "conda-package-handling        1.7.3\n",
      "cryptography                  3.4.7\n",
      "cycler                        0.10.0\n",
      "Cython                        0.29.24\n",
      "cytoolz                       0.11.0\n",
      "dask                          2021.7.2\n",
      "debugpy                       1.4.1\n",
      "decorator                     5.0.9\n",
      "defusedxml                    0.7.1\n",
      "descartes                     1.1.0\n",
      "dill                          0.3.4\n",
      "distributed                   2021.7.2\n",
      "entrypoints                   0.3\n",
      "fsspec                        2021.7.0\n",
      "gmpy2                         2.1.0b5\n",
      "greenlet                      1.1.1\n",
      "h5py                          3.3.0\n",
      "HeapDict                      1.0.1\n",
      "idna                          3.1\n",
      "imagecodecs                   2021.7.30\n",
      "imageio                       2.9.0\n",
      "importlib-metadata            4.6.3\n",
      "ipykernel                     6.0.3\n",
      "ipympl                        0.7.0\n",
      "ipython                       7.26.0\n",
      "ipython-genutils              0.2.0\n",
      "ipywidgets                    7.6.3\n",
      "jedi                          0.18.0\n",
      "Jinja2                        3.0.1\n",
      "joblib                        1.0.1\n",
      "json5                         0.9.5\n",
      "jsonschema                    3.2.0\n",
      "jupyter-client                6.1.12\n",
      "jupyter-core                  4.7.1\n",
      "jupyter-server                1.10.2\n",
      "jupyter-telemetry             0.1.0\n",
      "jupyterhub                    1.4.1\n",
      "jupyterlab                    3.0.16\n",
      "jupyterlab-pygments           0.1.2\n",
      "jupyterlab-server             2.6.2\n",
      "jupyterlab-widgets            1.0.0\n",
      "kiwisolver                    1.3.1\n",
      "llvmlite                      0.36.0\n",
      "locket                        0.2.0\n",
      "Mako                          1.1.4\n",
      "mamba                         0.15.2\n",
      "MarkupSafe                    2.0.1\n",
      "matplotlib                    3.4.2\n",
      "matplotlib-inline             0.1.2\n",
      "mistune                       0.8.4\n",
      "mizani                        0.7.3\n",
      "mock                          4.0.3\n",
      "mpmath                        1.2.1\n",
      "msgpack                       1.0.2\n",
      "nbclassic                     0.3.1\n",
      "nbclient                      0.5.3\n",
      "nbconvert                     6.1.0\n",
      "nbformat                      5.1.3\n",
      "nest-asyncio                  1.5.1\n",
      "networkx                      2.3\n",
      "notebook                      6.4.0\n",
      "numba                         0.53.1\n",
      "numexpr                       2.7.3\n",
      "numpy                         1.21.1\n",
      "oauthlib                      3.1.1\n",
      "olefile                       0.46\n",
      "packaging                     21.0\n",
      "palettable                    3.3.0\n",
      "pamela                        1.0.0\n",
      "pandas                        1.3.1\n",
      "pandocfilters                 1.4.2\n",
      "parso                         0.8.2\n",
      "partd                         1.2.0\n",
      "patsy                         0.5.1\n",
      "pexpect                       4.8.0\n",
      "pickleshare                   0.7.5\n",
      "Pillow                        8.3.1\n",
      "pip                           21.2.3\n",
      "plotnine                      0.8.0\n",
      "pooch                         1.4.0\n",
      "prometheus-client             0.11.0\n",
      "prompt-toolkit                3.0.19\n",
      "protobuf                      3.17.2\n",
      "psutil                        5.8.0\n",
      "ptyprocess                    0.7.0\n",
      "pycosat                       0.6.3\n",
      "pycparser                     2.20\n",
      "pycurl                        7.43.0.6\n",
      "Pygments                      2.9.0\n",
      "PyJWT                         2.1.0\n",
      "pyOpenSSL                     20.0.1\n",
      "pyparsing                     2.4.7\n",
      "pyrsistent                    0.17.3\n",
      "PySocks                       1.7.1\n",
      "python-dateutil               2.8.2\n",
      "python-editor                 1.0.4\n",
      "python-json-logger            2.0.1\n",
      "pytz                          2021.1\n",
      "PyWavelets                    1.1.1\n",
      "PyYAML                        5.4.1\n",
      "pyzmq                         22.2.1\n",
      "requests                      2.26.0\n",
      "requests-unixsocket           0.2.0\n",
      "ruamel.yaml                   0.17.10\n",
      "ruamel.yaml.clib              0.2.2\n",
      "ruamel-yaml-conda             0.15.80\n",
      "scikit-image                  0.18.2\n",
      "scikit-learn                  0.24.2\n",
      "scipy                         1.7.1\n",
      "seaborn                       0.11.1\n",
      "Send2Trash                    1.8.0\n",
      "setuptools                    49.6.0.post20210108\n",
      "six                           1.16.0\n",
      "sniffio                       1.2.0\n",
      "sortedcontainers              2.4.0\n",
      "soupsieve                     2.0.1\n",
      "SQLAlchemy                    1.4.22\n",
      "statsmodels                   0.12.2\n",
      "sympy                         1.8\n",
      "tables                        3.6.1\n",
      "tblib                         1.7.0\n",
      "terminado                     0.10.1\n",
      "testpath                      0.5.0\n",
      "threadpoolctl                 2.2.0\n",
      "tifffile                      2021.8.8\n",
      "toolz                         0.11.1\n",
      "tornado                       6.1\n",
      "tqdm                          4.62.0\n",
      "traitlets                     5.0.5\n",
      "typing-extensions             3.10.0.0\n",
      "urllib3                       1.26.6\n",
      "wcwidth                       0.2.5\n",
      "webencodings                  0.5.1\n",
      "websocket-client              0.57.0\n",
      "wheel                         0.36.2\n",
      "widgetsnbextension            3.5.1\n",
      "xlrd                          2.0.1\n",
      "zict                          2.0.0\n",
      "zipp                          3.5.0\n"
     ]
    }
   ],
   "source": [
    "!pip list"
   ]
  },
  {
   "cell_type": "markdown",
   "id": "127560cb-3528-4ab3-9742-03389b570a7f",
   "metadata": {},
   "source": [
    "## What if I need to update or install a python package?\n",
    "\n",
    "If all you need is to run and share Jupyter notebooks, install common scientific computing and data science libraries, you won't probably need to change any Dockerfiles provided in this template. All you have to do is add the package you need to the `notebooks/requirements.txt` file, one package per line.\n",
    "\n",
    "**It is highly recommended to specify the package version when you add it to the requirements.** For example, we can use ggplot-like functions within python by installing the plotnine library:\n",
    "\n",
    "```python\n",
    "plotnine==0.8.0\n",
    "```\n"
   ]
  },
  {
   "cell_type": "code",
   "execution_count": 2,
   "id": "e2119936-673d-4b0c-bd26-8d449b3f4ea4",
   "metadata": {},
   "outputs": [
    {
     "data": {
      "image/png": "[encoded data removed]",
      "text/plain": [
       "<Figure size 640x480 with 3 Axes>"
      ]
     },
     "metadata": {},
     "output_type": "display_data"
    },
    {
     "data": {
      "text/plain": [
       "<ggplot: (8732488530294)>"
      ]
     },
     "execution_count": 2,
     "metadata": {},
     "output_type": "execute_result"
    }
   ],
   "source": [
    "from plotnine import ggplot, geom_point, aes, stat_smooth, facet_wrap\n",
    "from plotnine.data import mtcars\n",
    "\n",
    "(ggplot(mtcars, aes('wt', 'mpg', color='factor(gear)'))\n",
    " + geom_point()\n",
    " + stat_smooth(method='lm')\n",
    " + facet_wrap('~gear'))"
   ]
  },
  {
   "cell_type": "markdown",
   "id": "8d16f87c-384e-432d-b65f-0b2b89ad60e7",
   "metadata": {},
   "source": [
    "\n",
    "If the package you are installing requires some OS-related libraries installed, for example Java SDK or a particular C compiler, you will have to add the instructions to install these required libraries to the Dockerfile. This has to be done above the `pip install ...` line for it to be installed in the container before the desired python library is compiled and installed.\n",
    "\n",
    "After you update Dockerfile or requirements.txt, you have to rebuild your Docker image/container. To do this, kill the Jupyter server that is currently running on your terminal (Ctrl+C), re-build and re-run the notebooks container:\n",
    "\n",
    "```console\n",
    "docker-compose build\n",
    "docker-compose up\n",
    "```\n",
    "\n",
    "Don't forget to commit and push the changes to your desired git branch, so your team members can replicate your environment! "
   ]
  },
  {
   "cell_type": "markdown",
   "id": "787c91d4-6d90-48e9-a59c-e1f300532f4e",
   "metadata": {},
   "source": [
    "# Docker mappings and directory structure\n",
    "\n",
    "If you have followed the instructions on the [project's README](/../../main/) and read the instructions above, you are already capable of running this notebook on a Jupyter server from within a Docker container. \n",
    "\n",
    "This is accomplished by making the changes you need to the notebooks/Dockerfile and the notebooks/requirements.txt running `docker-compose build` followed by `docker-compose up`.\n",
    "\n",
    "Like I said above, one thing you have to keep in mind is that home folders and general directories that are visible to us here on the notebook correspond to the files mapped to the container, which are not the same as the directories in your computer!\n",
    "\n",
    "For example, if you print out the current directory with Unix command [_pwd_](https://www.wikiwand.com/en/Pwd), you will see this:"
   ]
  },
  {
   "cell_type": "code",
   "execution_count": 3,
   "id": "7a165ef7-b37e-4a2d-9635-ba7d4d133d92",
   "metadata": {},
   "outputs": [
    {
     "name": "stdout",
     "output_type": "stream",
     "text": [
      "/mnt/code\n"
     ]
    }
   ],
   "source": [
    "!pwd"
   ]
  },
  {
   "cell_type": "markdown",
   "id": "7a152174-795c-47c5-9374-eafc9e1be942",
   "metadata": {},
   "source": [
    "You know from the section above that `/mnt/code` is mapped to the `<project_root>/notebooks` directory, but how does the container knows it has to start here?\n",
    "\n",
    "The answer for this is on the [project's Dockerfile](/../../feature/issue1/jon-initial-docker-structure/notebooks/Dockerfile):\n",
    "\n",
    "```Dockerfile\n",
    "# Using a default Docker image obtained from https://jupyter-docker-stacks.readthedocs.io/en/latest/index.html\n",
    "FROM jupyter/scipy-notebook:notebook-6.4.0\n",
    "\n",
    "USER root\n",
    "\n",
    "RUN apt update  && apt install -y vim\n",
    "\n",
    "USER jovyan\n",
    "\n",
    "# This is what will be the default directory inside the Docker container #\n",
    "WORKDIR /mnt/code\n",
    "\n",
    "COPY requirements.txt requirements.txt\n",
    "RUN pip install --upgrade pip\n",
    "RUN pip install -r requirements.txt\n",
    "\n",
    "RUN jupyter labextension install @jupyterlab/toc-extension\n",
    "```\n",
    "\n",
    "The command `WORKDIR` specifies the default working directory used whenever you start the container.\n",
    "\n",
    "# Custom packages\n",
    "\n",
    "## Empty Directories?\n",
    "\n",
    "If you list the directories and files in this working directory, you will see the notebooks, the Docker auxiliary files as well as the `pkg_name` directory:"
   ]
  },
  {
   "cell_type": "code",
   "execution_count": 4,
   "id": "48a22770-7c76-48c6-b1b0-d3c8b039d1ea",
   "metadata": {},
   "outputs": [
    {
     "name": "stdout",
     "output_type": "stream",
     "text": [
      "total 24K\n",
      "-rwxrwxrwx 1 jovyan 1000  23K Aug  9 19:42 notebook-01-docker-structure.ipynb\n",
      "-rwxrwxrwx 1 jovyan 1000   45 Aug  9 19:06 requirements.txt\n",
      "drwxrwxrwx 1 jovyan 1000 4.0K Aug  9 17:57 pkg_name\n",
      "-rwxrwxrwx 1 jovyan 1000  494 Aug  9 17:45 Dockerfile\n"
     ]
    }
   ],
   "source": [
    "!ls -lth"
   ]
  },
  {
   "cell_type": "markdown",
   "id": "e8d6b0c1-6455-472c-b4ab-46b62bb4ea67",
   "metadata": {},
   "source": [
    "But if you access the current working directory from outside the container, using the file browser in your OS, you will find that this `pkg_name` directory is empty!\n",
    "\n",
    "The reason for this is the mapping that exists on [the docker-compose.yml provided with this template](/../../feature/issue1/jon-initial-docker-structure/docker-compose.yml#L11).\n",
    "\n",
    "There, we have the following mapping:\n",
    "\n",
    "```yml\n",
    "services:\n",
    "\n",
    "  notebooks:\n",
    "      volumes:\n",
    "      - ./src/python/pkg_name:/mnt/code/pkg_name\n",
    "```\n",
    "\n",
    "Which translates into: map whatever is on this directory `<project_directory>/src/python/pkg_name` to `/mnt/code/pkg_name` inside the container.\n",
    "\n",
    "**In practice, this allows you to import your own python functions and classes without [messing with sys.path](https://askubuntu.com/a/471168/439914).**"
   ]
  },
  {
   "cell_type": "markdown",
   "id": "824549cb-40b7-4481-b0eb-b7f9ac305ead",
   "metadata": {},
   "source": [
    "## Importing a custom python package\n",
    "\n",
    "This way, you can invoke a function you wrote to `<project_directory>/src/python/pkg_name/__init__.py` by simply calling:"
   ]
  },
  {
   "cell_type": "code",
   "execution_count": 5,
   "id": "b568d426-a4b6-475f-a3f0-4bf62aca7d58",
   "metadata": {},
   "outputs": [],
   "source": [
    "from pkg_name import example_package_function"
   ]
  },
  {
   "cell_type": "code",
   "execution_count": 6,
   "id": "a4671481-8151-4b71-bc58-34e67634de27",
   "metadata": {},
   "outputs": [
    {
     "name": "stdout",
     "output_type": "stream",
     "text": [
      "This is just an example of a package function.\n",
      "To import this package and run this function in a notebook, go to the root directory and start the Docker container which contains the Jupyter server:`docker-compose up`.\n",
      "Then, open a notebook and import `from pkg_name import example_package_function` so you can run `example_package_function()`.\n"
     ]
    }
   ],
   "source": [
    "example_package_function()"
   ]
  },
  {
   "cell_type": "markdown",
   "id": "660163c5-5e46-4fb7-9719-8e8fddb54420",
   "metadata": {},
   "source": [
    "# The end\n",
    "\n",
    "I hope this notebook has helped you understand how we use Docker containers within this template, how to make small changes such as library versions and how you can import your custom functions to notebooks. "
   ]
  }
 ],
 "metadata": {
  "kernelspec": {
   "display_name": "Python 3 (ipykernel)",
   "language": "python",
   "name": "python3"
  },
  "language_info": {
   "codemirror_mode": {
    "name": "ipython",
    "version": 3
   },
   "file_extension": ".py",
   "mimetype": "text/x-python",
   "name": "python",
   "nbconvert_exporter": "python",
   "pygments_lexer": "ipython3",
   "version": "3.9.6"
  },
  "toc-autonumbering": true
 },
 "nbformat": 4,
 "nbformat_minor": 5
}
